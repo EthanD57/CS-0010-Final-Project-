{
 "cells": [
  {
   "cell_type": "markdown",
   "metadata": {},
   "source": [
    "<h1>Formulas for Final Data Calculations</h1>"
   ]
  },
  {
   "cell_type": "code",
   "execution_count": 123,
   "metadata": {},
   "outputs": [],
   "source": [
    "import pandas as pd\n",
    "drugs = pd.read_csv(\"Possesions.csv\", sep=\",\")\n",
    "arrests = pd.read_csv(\"sortedArrestData.csv\", sep=\",\")\n",
    "money = pd.read_csv(\"money.csv\", sep=\",\")\n"
   ]
  },
  {
   "cell_type": "code",
   "execution_count": 124,
   "metadata": {},
   "outputs": [],
   "source": [
    "\n",
    "money[\"Neighborhood\"] = money[\"Neighborhood\"].str.lower()\n",
    "arrests[\"Locations\"] = arrests[\"Locations\"].str.lower()\n",
    "drugs[\"Location\"] = drugs[\"Location\"].str.lower()\n",
    "\n",
    "moneyLoc = money['Neighborhood'].tolist()\n",
    "drugLoc = drugs['Location'].tolist()\n",
    "arrestLoc = arrests['Locations'].tolist()      \n",
    "\n",
    "moneyLoc = [str(x).lower() for x in moneyLoc]\n",
    "drugLoc = [str(x).lower() for x in drugLoc]\n",
    "arrestLoc = [str(x).lower() for x in arrestLoc]\n",
    "\n",
    "moneyLoc.sort()\n",
    "drugLoc.sort()\n",
    "arrestLoc.sort()\n",
    "\n",
    "Biglist = []\n",
    "for each in moneyLoc:\n",
    "    if each in moneyLoc and each in arrestLoc and each in drugLoc:\n",
    "        Biglist.append(each)\n",
    "\n",
    "meanArrests = arrests[\"Numbers\"].mean().item()\n",
    "\n",
    "    "
   ]
  },
  {
   "cell_type": "code",
   "execution_count": 125,
   "metadata": {},
   "outputs": [
    {
     "name": "stdout",
     "output_type": "stream",
     "text": [
      "                                 0\n",
      "central northside         2888.112\n",
      "squirrel hill north       1185.053\n",
      "regent square              867.912\n",
      "st. clair                  788.975\n",
      "point breeze               617.159\n",
      "ridgemont                  536.853\n",
      "squirrel hill south        351.699\n",
      "allegheny west             311.219\n",
      "highland park              309.136\n",
      "central lawrenceville      251.790\n",
      "north oakland              251.082\n",
      "shadyside                  238.099\n",
      "friendship                 235.125\n",
      "swisshelm park             195.904\n",
      "fairywood                  190.881\n",
      "new homestead              180.835\n",
      "bloomfield                 179.602\n",
      "stanton heights            166.901\n",
      "middle hill                157.409\n",
      "summer hill                154.523\n",
      "lower lawrenceville        149.331\n",
      "east hills                 140.649\n",
      "oakwood                    132.148\n",
      "point breeze north         126.487\n",
      "central oakland            122.099\n",
      "arlington                  111.045\n",
      "larimer                    110.066\n",
      "homewood south             109.426\n",
      "homewood west               93.392\n",
      "lincoln place               90.417\n",
      "westwood                    87.448\n",
      "knoxville                   87.352\n",
      "northview heights           82.329\n",
      "polish hill                 73.569\n",
      "east carnegie               73.103\n",
      "perry north                 72.872\n",
      "allentown                   71.999\n",
      "hays                        70.120\n",
      "brighton heights            66.164\n",
      "lincoln-lemington-belmar    66.093\n",
      "homewood north              65.581\n",
      "arlington heights           61.669\n",
      "west oakland                54.338\n",
      "bedford dwellings           49.196\n",
      "south side flats            47.548\n",
      "upper hill                  44.049\n",
      "carrick                     39.093\n",
      "allegheny center            37.002\n",
      "north shore                 36.484\n",
      "windgap                     33.358\n",
      "hazelwood                   32.956\n",
      "glen hazel                  32.036\n",
      "bon air                     29.877\n",
      "mount washington            28.856\n",
      "crawford-roberts            20.674\n",
      "marshall-shadeland           6.879\n"
     ]
    }
   ],
   "source": [
    "finalScores = {}\n",
    "for x in range(len(Biglist)):\n",
    "    tempString = Biglist[x]\n",
    "    if tempString in moneyLoc and tempString in arrestLoc and tempString in drugLoc:\n",
    "        temp1 = int(money[money[\"Neighborhood\"]== tempString].index.values)\n",
    "        temp2 = int(arrests[arrests[\"Locations\"]== tempString].index.values)\n",
    "        temp3 = int(drugs[drugs[\"Location\"]== tempString].index.values)\n",
    "        finalScores[tempString] = round(((0.5*int(money[\"Estimate; Total: - $200,000 or more\"][temp1])) + (2 * int(drugs[\"Drug Possesions\"][temp3]))) * ((meanArrests)/ (int(arrests[\"Numbers\"][temp2]))), 3)\n",
    "\n",
    "\n",
    "DrugPoints = pd.DataFrame.from_dict(finalScores, orient='index')\n",
    "DrugPoints = DrugPoints.sort_values(by=[0],ascending=False)\n",
    "print(DrugPoints)\n",
    "\n"
   ]
  },
  {
   "cell_type": "code",
   "execution_count": null,
   "metadata": {},
   "outputs": [],
   "source": []
  }
 ],
 "metadata": {
  "kernelspec": {
   "display_name": "Python 3.10.8 64-bit (microsoft store)",
   "language": "python",
   "name": "python3"
  },
  "language_info": {
   "codemirror_mode": {
    "name": "ipython",
    "version": 3
   },
   "file_extension": ".py",
   "mimetype": "text/x-python",
   "name": "python",
   "nbconvert_exporter": "python",
   "pygments_lexer": "ipython3",
   "version": "3.10.8"
  },
  "orig_nbformat": 4,
  "vscode": {
   "interpreter": {
    "hash": "3dce63e6a54adc42dcca76dd982b98d69b1e9d0b7e1260bf71746be2447b2fe2"
   }
  }
 },
 "nbformat": 4,
 "nbformat_minor": 2
}
