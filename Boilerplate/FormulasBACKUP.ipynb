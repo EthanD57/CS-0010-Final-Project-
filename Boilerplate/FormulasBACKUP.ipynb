{
 "cells": [
  {
   "cell_type": "markdown",
   "metadata": {},
   "source": [
    "<h1>Formulas for Final Data Calculations</h1>"
   ]
  },
  {
   "cell_type": "code",
   "execution_count": 6,
   "metadata": {},
   "outputs": [],
   "source": [
    "import pandas as pd\n",
    "drugs = pd.read_csv(\"Possesions.csv\", sep=\",\")\n",
    "arrests = pd.read_csv(\"sortedArrestData.csv\", sep=\",\")\n",
    "money = pd.read_csv(\"money.csv\", sep=\",\")"
   ]
  },
  {
   "cell_type": "code",
   "execution_count": 7,
   "metadata": {},
   "outputs": [],
   "source": [
    "\n",
    "money[\"Neighborhood\"] = money[\"Neighborhood\"].str.lower()\n",
    "arrests[\"Locations\"] = arrests[\"Locations\"].str.lower()\n",
    "drugs[\"Location\"] = drugs[\"Location\"].str.lower()\n",
    "\n",
    "moneyLoc = money['Neighborhood'].tolist()\n",
    "drugLoc = drugs['Location'].tolist()\n",
    "arrestLoc = arrests['Locations'].tolist()      \n",
    "\n",
    "moneyLoc = [str(x).lower() for x in moneyLoc]\n",
    "drugLoc = [str(x).lower() for x in drugLoc]\n",
    "arrestLoc = [str(x).lower() for x in arrestLoc]\n",
    "\n",
    "moneyLoc.sort()\n",
    "drugLoc.sort()\n",
    "arrestLoc.sort()\n",
    "\n",
    "Biglist = []\n",
    "for each in moneyLoc:\n",
    "    if each in moneyLoc and each in arrestLoc and each in drugLoc:\n",
    "        Biglist.append(each)\n",
    "\n",
    "meanArrests = arrests[\"Numbers\"].mean().item()"
   ]
  },
  {
   "cell_type": "code",
   "execution_count": 8,
   "metadata": {},
   "outputs": [
    {
     "name": "stdout",
     "output_type": "stream",
     "text": [
      "               Location  Drug Points\n",
      "18    central northside     3236.677\n",
      "74  squirrel hill north     1207.777\n",
      "76            st. clair      890.778\n",
      "64        regent square      760.541\n",
      "61         point breeze      653.582\n",
      "..                  ...          ...\n",
      "78       strip district      113.878\n",
      "22      crafton heights      113.301\n",
      "58            overbrook      106.348\n",
      "26        east carnegie       97.471\n",
      "35           glen hazel       72.081\n",
      "\n",
      "[89 rows x 2 columns]\n"
     ]
    }
   ],
   "source": [
    "finalScores = {}\n",
    "for x in range(len(Biglist)):\n",
    "    tempString = Biglist[x]\n",
    "    if tempString in moneyLoc and tempString in arrestLoc and tempString in drugLoc:\n",
    "        temp1 = int(money[money[\"Neighborhood\"]== tempString].index.values)\n",
    "        temp2 = int(arrests[arrests[\"Locations\"]== tempString].index.values)\n",
    "        temp3 = int(drugs[drugs[\"Location\"]== tempString].index.values)\n",
    "        finalScores[tempString] = round(((0.5*int(money[\"Estimate; Total: - $200,000 or more\"][temp1])) + (2 * int(drugs[\"Drug Possesions\"][temp3]))) * ((meanArrests)/ (int(arrests[\"Numbers\"][temp2]))), 3)\n",
    "\n",
    "points = list(finalScores.values())\n",
    "local = list(finalScores.keys())\n",
    "DrugPoints = pd.DataFrame(list(zip(local, points)), columns=[\"Location\",\"Drug Points\"])\n",
    "DrugPoints = DrugPoints.sort_values(by=[\"Drug Points\"],ascending=False)\n",
    "print(DrugPoints)"
   ]
  },
  {
   "cell_type": "code",
   "execution_count": null,
   "metadata": {},
   "outputs": [],
   "source": []
  }
 ],
 "metadata": {
  "kernelspec": {
   "display_name": "Python 3.10.8 64-bit (microsoft store)",
   "language": "python",
   "name": "python3"
  },
  "language_info": {
   "codemirror_mode": {
    "name": "ipython",
    "version": 3
   },
   "file_extension": ".py",
   "mimetype": "text/x-python",
   "name": "python",
   "nbconvert_exporter": "python",
   "pygments_lexer": "ipython3",
   "version": "3.10.8"
  },
  "orig_nbformat": 4,
  "vscode": {
   "interpreter": {
    "hash": "3dce63e6a54adc42dcca76dd982b98d69b1e9d0b7e1260bf71746be2447b2fe2"
   }
  }
 },
 "nbformat": 4,
 "nbformat_minor": 2
}
