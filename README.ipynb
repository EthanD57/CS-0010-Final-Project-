{
 "cells": [
  {
   "cell_type": "markdown",
   "metadata": {},
   "source": [
    "# Team: Pitt is Garbage\n",
    "\n",
    "## Group Members:\n",
    "<br>Greyson Barsotti - gjb46@pitt.edu\n",
    "<br>Ethan Defilippi - ecd57@pitt.edu\n",
    "\n",
    "## Data Sets:\n",
    "- [911 EMS Dispatches](https://data.wprdc.org/dataset/allegheny-county-911-dispatches-ems-and-fire) - Worked on by Ethan\n",
    "- [Pittsburgh Police Arrest Data](https://data.wprdc.org/dataset/arrest-data) - Worked on by Greyson\n",
    "- [Pennsylvania Vacant Addresses](https://data.wprdc.org/dataset/vacant-addresses) - Worked on by Greyson & Ethan\n",
    "---\n",
    "\n",
    "## Our Mission:\n",
    "We will be investigating the best area in Pittsburgh to do <b>hard drugs</b> (but we do <strong>not</strong> recommend this action). (If we are allowed, we think it would be funny).\n",
    "\n",
    "#### Our data will be drawn from the metrics:\n",
    "\n",
    "* \"Allegheny County Fatal Accidental Overdoses\"\n",
    "* \"Pittsburgh Police Arrest Data\"\n",
    "* \"Pennsylvania Vacant Adresses\"\n",
    "\n",
    "\n",
    "#### Our single metric will be \"Drug Points\"\n",
    "\n",
    "This metric will be used to rate all of the neighborhoods in the data set based off one linear scale. This number will be calculated by adding all of the numbers together from the datasets. For example: <br>(20 vacant houses - 20 arrests + 10 fatal drug overdoses) = 10 drug points.\n"
   ]
  },
  {
   "cell_type": "markdown",
   "metadata": {},
   "source": []
  }
 ],
 "metadata": {
  "kernelspec": {
   "display_name": "Python 3.10.8 64-bit (microsoft store)",
   "language": "python",
   "name": "python3"
  },
  "language_info": {
   "name": "python",
   "version": "3.10.8"
  },
  "orig_nbformat": 4,
  "vscode": {
   "interpreter": {
    "hash": "3dce63e6a54adc42dcca76dd982b98d69b1e9d0b7e1260bf71746be2447b2fe2"
   }
  }
 },
 "nbformat": 4,
 "nbformat_minor": 2
}
