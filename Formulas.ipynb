{
 "cells": [
  {
   "cell_type": "markdown",
   "metadata": {},
   "source": [
    "<h1>Formulas for Final Data Calculations</h1>"
   ]
  },
  {
   "cell_type": "code",
   "execution_count": 2,
   "metadata": {},
   "outputs": [],
   "source": [
    "import pandas as pd\n",
    "drugs = pd.read_csv(\"Overdoses.csv\", sep=\",\")\n",
    "arrests = pd.read_csv(\"sortedArrestData.csv\", sep=\",\")\n",
    "money = pd.read_csv(\"money.csv\", sep=\",\")"
   ]
  },
  {
   "cell_type": "code",
   "execution_count": 10,
   "metadata": {},
   "outputs": [
    {
     "name": "stdout",
     "output_type": "stream",
     "text": [
      "['aleppo', 'aspinwall', 'avalon', 'baldwin boro', 'baldwin township', 'bellevue', 'ben avon', 'blawnox', 'brackenridge', 'braddock', 'braddock hills', 'brentwood', 'bridgeville', 'carnegie', 'castle shannon', 'chalfant', 'cheswick', 'churchill', 'clairton', 'collier', 'coraopolis', 'crafton', 'crescent', 'dormont', 'dravosburg', 'duquesne', 'east deer', 'east mckeesport', 'east pittsburgh', 'edgewood', 'edgeworth', 'elizabeth boro', 'elizabeth township', 'emsworth', 'etna', 'fawn', 'findlay', 'forest hills', 'forward', 'fox chapel', 'franklin park', 'frazer', 'glassport', 'glen osborne', 'green tree', 'hampton', 'harmar', 'harrison', 'heidelberg', 'homestead', 'indiana', 'ingram', 'jefferson hills', 'kennedy', 'leet', 'leetsdale', 'liberty', 'lincoln', 'marshall', 'mccandless', 'mckees rocks', 'mckeesport', 'millvale', 'monroeville', 'moon', 'mount lebanon', 'mount oliver', 'munhall', 'neville', 'north braddock', 'north fayette', 'north versailles', \"o'hara\", 'oakdale', 'oakmont', 'ohio', 'penn hills', 'pennsbury village', 'pine', 'pitcairn', 'pittsburgh', 'pleasant hills', 'plum', 'port vue', 'rankin', 'reserve', 'richland', 'robinson', 'ross', 'scott', 'sewickley', 'shaler', 'sharpsburg', 'south fayette', 'springdale boro', 'springdale township', 'stowe', 'swissvale', 'tarentum', 'turtle creek', 'verona', 'versailles', 'wall', 'west deer', 'west homestead', 'west mifflin', 'west view', 'whitaker', 'white oak', 'whitehall', 'wilkins', 'wilkinsburg', 'wilmerding']\n"
     ]
    }
   ],
   "source": [
    "\n",
    "moneyLoc = money['Neighborhood'].tolist()\n",
    "drugLoc = drugs['Location'].tolist()\n",
    "arrestLoc = arrests['Locations'].tolist()      \n",
    "\n",
    "##turn each value in moneyLoc into a lower case string\n",
    "moneyLoc = [str(x).lower() for x in moneyLoc]\n",
    "drugLoc = [str(x).lower() for x in drugLoc]\n",
    "arrestLoc = [str(x).lower() for x in arrestLoc]\n",
    "\n",
    "moneyLoc.sort()\n",
    "drugLoc.sort()\n",
    "arrestLoc.sort()\n",
    "\n",
    "list = []\n",
    "for each in moneyLoc:\n",
    "    if each in moneyLoc and each in arrestLoc:\n",
    "        list.append(each)\n",
    "\n",
    "print(drugLoc)\n"
   ]
  },
  {
   "cell_type": "code",
   "execution_count": 11,
   "metadata": {},
   "outputs": [
    {
     "name": "stdout",
     "output_type": "stream",
     "text": [
      "['allegheny center', 'allegheny west', 'allentown', 'arlington', 'arlington heights', 'banksville', 'bedford dwellings', 'beechview', 'beltzhoover', 'bloomfield', 'bluff', 'bon air', 'brighton heights', 'brookline', 'california-kirkbride', 'carrick', 'central business district', 'central lawrenceville', 'central northside', 'central oakland', 'chartiers city', 'chateau', 'crafton heights', 'crawford-roberts', 'duquesne heights', 'east allegheny', 'east carnegie', 'east hills', 'east liberty', 'elliott', 'esplen', 'fairywood', 'fineview', 'friendship', 'garfield', 'glen hazel', 'greenfield', 'hays', 'hazelwood', 'highland park', 'homewood north', 'homewood south', 'homewood west', 'knoxville', 'larimer', 'lincoln place', 'lincoln-lemington-belmar', 'lower lawrenceville', 'manchester', 'marshall-shadeland', 'middle hill', 'morningside', 'mount washington', 'new homestead', 'north oakland', 'north shore', 'northview heights', 'oakwood', 'overbrook', 'perry north', 'perry south', 'point breeze', 'point breeze north', 'polish hill', 'regent square', 'ridgemont', 'shadyside', 'sheraden', 'south oakland', 'south shore', 'south side flats', 'south side slopes', 'spring garden', 'spring hill-city view', 'squirrel hill north', 'squirrel hill south', 'st. clair', 'stanton heights', 'strip district', 'summer hill', 'swisshelm park', 'terrace village', 'troy hill', 'upper hill', 'upper lawrenceville', 'west end', 'west oakland', 'westwood', 'windgap']\n"
     ]
    }
   ],
   "source": [
    "print(list)"
   ]
  },
  {
   "cell_type": "code",
   "execution_count": null,
   "metadata": {},
   "outputs": [],
   "source": []
  }
 ],
 "metadata": {
  "kernelspec": {
   "display_name": "Python 3.10.8 64-bit (microsoft store)",
   "language": "python",
   "name": "python3"
  },
  "language_info": {
   "codemirror_mode": {
    "name": "ipython",
    "version": 3
   },
   "file_extension": ".py",
   "mimetype": "text/x-python",
   "name": "python",
   "nbconvert_exporter": "python",
   "pygments_lexer": "ipython3",
   "version": "3.10.8"
  },
  "orig_nbformat": 4,
  "vscode": {
   "interpreter": {
    "hash": "3dce63e6a54adc42dcca76dd982b98d69b1e9d0b7e1260bf71746be2447b2fe2"
   }
  }
 },
 "nbformat": 4,
 "nbformat_minor": 2
}
