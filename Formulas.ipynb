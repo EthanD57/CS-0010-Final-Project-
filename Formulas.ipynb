{
 "cells": [
  {
   "cell_type": "markdown",
   "metadata": {},
   "source": [
    "<h1>Formulas for Final Data Calculations</h1>"
   ]
  },
  {
   "cell_type": "code",
   "execution_count": 1,
   "metadata": {},
   "outputs": [],
   "source": [
    "import pandas as pd\n",
    "drugs = pd.read_csv(\"Possesions.csv\", sep=\",\")\n",
    "arrests = pd.read_csv(\"sortedArrestData.csv\", sep=\",\")\n",
    "money = pd.read_csv(\"money.csv\", sep=\",\")"
   ]
  },
  {
   "cell_type": "code",
   "execution_count": 6,
   "metadata": {},
   "outputs": [],
   "source": [
    "\n",
    "moneyLoc = money['Neighborhood'].tolist()\n",
    "drugLoc = drugs['Location'].tolist()\n",
    "arrestLoc = arrests['Locations'].tolist()      \n",
    "\n",
    "##turn each value in moneyLoc into a lower case string\n",
    "moneyLoc = [str(x).lower() for x in moneyLoc]\n",
    "drugLoc = [str(x).lower() for x in drugLoc]\n",
    "arrestLoc = [str(x).lower() for x in arrestLoc]\n",
    "\n",
    "moneyLoc.sort()\n",
    "drugLoc.sort()\n",
    "arrestLoc.sort()\n",
    "\n",
    "list = []\n",
    "for each in moneyLoc:\n",
    "    if each in moneyLoc and each in arrestLoc and each in drugLoc:\n",
    "        list.append(each)\n",
    "\n"
   ]
  },
  {
   "cell_type": "code",
   "execution_count": 8,
   "metadata": {},
   "outputs": [
    {
     "name": "stdout",
     "output_type": "stream",
     "text": [
      "{'allegheny center': 3, 'allegheny west': 3, 'allentown': 3, 'arlington': 3, 'arlington heights': 3, 'bedford dwellings': 3, 'bloomfield': 3, 'bon air': 3, 'brighton heights': 3, 'carrick': 3, 'central lawrenceville': 3, 'central northside': 3, 'central oakland': 3, 'crawford-roberts': 3, 'east carnegie': 3, 'east hills': 3, 'fairywood': 3, 'friendship': 3, 'glen hazel': 3, 'hays': 3, 'hazelwood': 3, 'highland park': 3, 'homewood north': 3, 'homewood south': 3, 'homewood west': 3, 'knoxville': 3, 'larimer': 3, 'lincoln place': 3, 'lincoln-lemington-belmar': 3, 'lower lawrenceville': 3, 'marshall-shadeland': 3, 'middle hill': 3, 'mount washington': 3, 'new homestead': 3, 'north oakland': 3, 'north shore': 3, 'northview heights': 3, 'oakwood': 3, 'perry north': 3, 'point breeze': 3, 'point breeze north': 3, 'polish hill': 3, 'regent square': 3, 'ridgemont': 3, 'shadyside': 3, 'south side flats': 3, 'squirrel hill north': 3, 'squirrel hill south': 3, 'st. clair': 3, 'stanton heights': 3, 'summer hill': 3, 'swisshelm park': 3, 'upper hill': 3, 'west oakland': 3, 'westwood': 3, 'windgap': 3}\n"
     ]
    }
   ],
   "source": [
    "# finalScores = {}\n",
    "# for each in list:\n",
    "#     if each in moneyLoc and each in arrestLoc and each in drugLoc:\n",
    "\n"
   ]
  },
  {
   "cell_type": "code",
   "execution_count": null,
   "metadata": {},
   "outputs": [],
   "source": []
  }
 ],
 "metadata": {
  "kernelspec": {
   "display_name": "Python 3.10.8 64-bit (microsoft store)",
   "language": "python",
   "name": "python3"
  },
  "language_info": {
   "codemirror_mode": {
    "name": "ipython",
    "version": 3
   },
   "file_extension": ".py",
   "mimetype": "text/x-python",
   "name": "python",
   "nbconvert_exporter": "python",
   "pygments_lexer": "ipython3",
   "version": "3.10.8"
  },
  "orig_nbformat": 4,
  "vscode": {
   "interpreter": {
    "hash": "3dce63e6a54adc42dcca76dd982b98d69b1e9d0b7e1260bf71746be2447b2fe2"
   }
  }
 },
 "nbformat": 4,
 "nbformat_minor": 2
}
