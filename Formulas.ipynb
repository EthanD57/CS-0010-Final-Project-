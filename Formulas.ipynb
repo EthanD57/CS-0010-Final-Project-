{
 "cells": [
  {
   "cell_type": "markdown",
   "metadata": {},
   "source": [
    "<h1>Formulas for Final Data Calculations</h1>"
   ]
  },
  {
   "cell_type": "code",
   "execution_count": 2,
   "metadata": {},
   "outputs": [],
   "source": [
    "import pandas as pd\n",
    "drugs = pd.read_csv(\"Overdoses.csv\", sep=\",\")\n",
    "arrests = pd.read_csv(\"sortedArrestData.csv\", sep=\",\")\n",
    "money = pd.read_csv(\"money.csv\", sep=\",\")\n",
    "\n"
   ]
  },
  {
   "cell_type": "code",
   "execution_count": 11,
   "metadata": {},
   "outputs": [
    {
     "ename": "AttributeError",
     "evalue": "'float' object has no attribute 'lower'",
     "output_type": "error",
     "traceback": [
      "\u001b[1;31m---------------------------------------------------------------------------\u001b[0m",
      "\u001b[1;31mAttributeError\u001b[0m                            Traceback (most recent call last)",
      "Cell \u001b[1;32mIn [11], line 8\u001b[0m\n\u001b[0;32m      6\u001b[0m     each \u001b[39m=\u001b[39m each\u001b[39m.\u001b[39mlower()\n\u001b[0;32m      7\u001b[0m \u001b[39mfor\u001b[39;00m each \u001b[39min\u001b[39;00m drugLoc:\n\u001b[1;32m----> 8\u001b[0m     each \u001b[39m=\u001b[39m each\u001b[39m.\u001b[39mlower()\n\u001b[0;32m      9\u001b[0m \u001b[39mfor\u001b[39;00m each \u001b[39min\u001b[39;00m arrestLoc:\n\u001b[0;32m     10\u001b[0m     each \u001b[39m=\u001b[39m each\u001b[39m.\u001b[39mlower()\n",
      "\u001b[1;31mAttributeError\u001b[0m: 'float' object has no attribute 'lower'"
     ]
    }
   ],
   "source": [
    "\n",
    "moneyLoc = money['Neighborhood'].tolist()\n",
    "drugLoc = drugs['Location'].tolist()\n",
    "arrestLoc = arrests['Locations'].tolist()      \n",
    "\n",
    "for each in moneyLoc:\n",
    "    each = each.lower()\n",
    "for each in drugLoc:\n",
    "    each = each.lower()\n",
    "for each in arrestLoc:\n",
    "    each = each.lower()"
   ]
  },
  {
   "cell_type": "code",
   "execution_count": null,
   "metadata": {},
   "outputs": [],
   "source": []
  }
 ],
 "metadata": {
  "kernelspec": {
   "display_name": "Python 3.10.8 64-bit (microsoft store)",
   "language": "python",
   "name": "python3"
  },
  "language_info": {
   "codemirror_mode": {
    "name": "ipython",
    "version": 3
   },
   "file_extension": ".py",
   "mimetype": "text/x-python",
   "name": "python",
   "nbconvert_exporter": "python",
   "pygments_lexer": "ipython3",
   "version": "3.10.8"
  },
  "orig_nbformat": 4,
  "vscode": {
   "interpreter": {
    "hash": "3dce63e6a54adc42dcca76dd982b98d69b1e9d0b7e1260bf71746be2447b2fe2"
   }
  }
 },
 "nbformat": 4,
 "nbformat_minor": 2
}
