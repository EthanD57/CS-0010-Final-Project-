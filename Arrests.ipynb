{
 "cells": [
  {
   "cell_type": "markdown",
   "metadata": {},
   "source": [
    "<h1> Arrests </h1>"
   ]
  },
  {
   "cell_type": "code",
   "execution_count": 1,
   "metadata": {},
   "outputs": [],
   "source": [
    "import pandas as pd\n",
    "\n",
    "# Reads the data\n",
    "\n",
    "arrests = pd.read_csv(\"Arrest.csv\",sep=\",\")"
   ]
  },
  {
   "cell_type": "code",
   "execution_count": 2,
   "metadata": {},
   "outputs": [],
   "source": [
    "# Adds the data to a dictionary \n",
    "\n",
    "arrestLocDict = {}\n",
    "arrestLocation = arrests[['INCIDENTNEIGHBORHOOD']]\n",
    "\n",
    "for each in arrestLocation['INCIDENTNEIGHBORHOOD']:\n",
    "    if each in arrestLocDict:\n",
    "        arrestLocDict[each] += 1\n",
    "    else:\n",
    "        arrestLocDict[each] = 1"
   ]
  },
  {
   "cell_type": "code",
   "execution_count": 3,
   "metadata": {},
   "outputs": [],
   "source": [
    "# Changes the dictionary to lists\n",
    "\n",
    "numbers = list(arrestLocDict.values())\n",
    "locations = list(arrestLocDict.keys())\n",
    "\n",
    "# Changes the lists into a dataframe\n",
    "\n",
    "dframe = pd.DataFrame(list(zip(locations, numbers)), columns=[\"Locations\",\"Numbers\"])\n",
    "sortedDF = dframe.sort_values(by=['Numbers'],ascending=False)\n",
    "\n"
   ]
  },
  {
   "cell_type": "code",
   "execution_count": 4,
   "metadata": {},
   "outputs": [],
   "source": [
    "# Converts the dataframe into a csv file to be read by our formula notebook\n",
    "\n",
    "sortedDF.to_csv('sortedArrestData.csv', index=False, sep=\",\")"
   ]
  },
  {
   "cell_type": "code",
   "execution_count": null,
   "metadata": {},
   "outputs": [],
   "source": []
  }
 ],
 "metadata": {
  "kernelspec": {
   "display_name": "Python 3.11.0 64-bit",
   "language": "python",
   "name": "python3"
  },
  "language_info": {
   "codemirror_mode": {
    "name": "ipython",
    "version": 3
   },
   "file_extension": ".py",
   "mimetype": "text/x-python",
   "name": "python",
   "nbconvert_exporter": "python",
   "pygments_lexer": "ipython3",
   "version": "3.11.0"
  },
  "orig_nbformat": 4,
  "vscode": {
   "interpreter": {
    "hash": "aee8b7b246df8f9039afb4144a1f6fd8d2ca17a180786b69acc140d282b71a49"
   }
  }
 },
 "nbformat": 4,
 "nbformat_minor": 2
}
