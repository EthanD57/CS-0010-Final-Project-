{
 "cells": [
  {
   "cell_type": "markdown",
   "metadata": {},
   "source": [
    "<h1> Arrests </h1>"
   ]
  },
  {
   "cell_type": "code",
<<<<<<< HEAD
   "execution_count": 3,
=======
   "execution_count": 2,
>>>>>>> 3b7eb36 (Added storted csv and updated arrests)
   "metadata": {},
   "outputs": [],
   "source": [
    "import pandas as pd\n",
<<<<<<< HEAD
=======
    "\n",
    "# Reads the data\n",
    "\n",
>>>>>>> 3b7eb36 (Added storted csv and updated arrests)
    "arrests = pd.read_csv(\"Arrest.csv\",sep=\",\")"
   ]
  },
  {
   "cell_type": "code",
   "execution_count": 7,
   "metadata": {},
   "outputs": [],
   "source": [
    "# Adds the data to a dictionary\n",
    "\n",
    "arrestLocDict = {}\n",
    "arrestLocation = arrests[['INCIDENTNEIGHBORHOOD']]\n",
    "\n",
    "for each in arrestLocation['INCIDENTNEIGHBORHOOD']:\n",
    "    if each in arrestLocDict:\n",
    "        arrestLocDict[each] += 1\n",
    "    else:\n",
    "        arrestLocDict[each] = 1"
   ]
  },
  {
   "cell_type": "code",
   "execution_count": 5,
   "metadata": {},
   "outputs": [],
   "source": [
    "# Changes the dictionary to lists\n",
    "\n",
    "numbers = list(arrestLocDict.values())\n",
    "locations = list(arrestLocDict.keys())\n",
    "\n",
    "# Changes the lists into a dataframe\n",
    "\n",
    "dframe = pd.DataFrame(list(zip(locations, numbers)), columns=[\"Locations\",\"Numbers\"])\n",
    "sortedDF = dframe.sort_values(by=['Numbers'],ascending=False)\n",
    "\n"
   ]
  },
  {
   "cell_type": "code",
   "execution_count": 6,
   "metadata": {},
   "outputs": [],
   "source": [
    "# Converts the dataframe into a csv file to be read by our formula notebook\n",
    "\n",
    "sortedDF.to_csv('sortedArrestData.csv', index=False, sep=\",\")"
   ]
  },
  {
   "cell_type": "code",
   "execution_count": null,
   "metadata": {},
   "outputs": [],
   "source": []
  }
 ],
 "metadata": {
  "kernelspec": {
   "display_name": "Python 3.10.8 64-bit (microsoft store)",
   "language": "python",
   "name": "python3"
  },
  "language_info": {
   "codemirror_mode": {
    "name": "ipython",
    "version": 3
   },
   "file_extension": ".py",
   "mimetype": "text/x-python",
   "name": "python",
   "nbconvert_exporter": "python",
   "pygments_lexer": "ipython3",
   "version": "3.10.8"
  },
  "orig_nbformat": 4,
  "vscode": {
   "interpreter": {
    "hash": "3dce63e6a54adc42dcca76dd982b98d69b1e9d0b7e1260bf71746be2447b2fe2"
   }
  }
 },
 "nbformat": 4,
 "nbformat_minor": 2
}
