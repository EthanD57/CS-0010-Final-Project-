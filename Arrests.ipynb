{
 "cells": [
  {
   "cell_type": "markdown",
   "metadata": {},
   "source": [
    "<h1> Arrests </h1>"
   ]
  },
  {
   "cell_type": "code",
   "execution_count": 3,
   "metadata": {},
   "outputs": [],
   "source": [
    "import pandas as pd\n",
    "arrests = pd.read_csv(\"Arrest.csv\",sep=\",\")"
   ]
  },
  {
   "cell_type": "code",
   "execution_count": 21,
   "metadata": {},
   "outputs": [
    {
     "name": "stdout",
     "output_type": "stream",
     "text": [
      "{'Bloomfield': 880, 'Outside City': 274, 'Westwood': 203, 'East Allegheny': 1893, 'Crafton Heights': 513, 'Greenfield': 473, 'Brookline': 1196, 'Regent Square': 32, 'East Liberty': 1652, nan: 2203, 'East Hills': 1026, 'Carrick': 2102, 'Allegheny Center': 1122, 'South Side Flats': 3053, 'Sheraden': 1132, 'East Carnegie': 47, 'Golden Triangle/Civic Arena': 83, 'Point Breeze North': 249, 'Perry South': 954, 'Allentown': 855, 'North Shore': 722, 'Marshall-Shadeland': 1332, 'Central Oakland': 469, 'Middle Hill': 844, 'Strip District': 440, 'Lincoln-Lemington-Belmar': 1148, 'Central Northside': 23, 'Troy Hill-Herrs Island': 6, 'Highland Park': 502, 'Homewood North': 1742, 'Northview Heights': 626, 'Brighton Heights': 978, 'Hazelwood': 1225, 'Perry North': 554, 'Bedford Dwellings': 582, 'Elliott': 588, 'Beechview': 1076, 'Fineview': 750, 'Glen Hazel': 143, 'Spring Hill-City View': 630, 'Bluff': 1313, 'Manchester': 439, 'Homewood West': 699, 'Outside County': 49, 'Point Breeze': 283, 'Homewood South': 1863, 'Squirrel Hill South': 727, 'Terrace Village': 255, 'Upper Lawrenceville': 170, 'Arlington': 263, 'South Side Slopes': 714, 'Lower Lawrenceville': 232, 'Garfield': 628, 'Lincoln Place': 190, 'Larimer': 770, 'Mount Washington': 1280, 'California-Kirkbride': 255, 'Banksville': 256, 'Bon Air': 230, 'South Shore': 268, 'Beltzhoover': 461, 'Knoxville': 1180, 'Chateau': 393, 'Crawford-Roberts': 734, 'Polish Hill': 144, 'Fairywood': 108, 'West End': 250, 'Shadyside': 855, 'Morningside': 173, 'Overbrook': 280, 'Friendship': 151, 'North Oakland': 390, 'Central Lawrenceville': 398, 'Oakwood': 78, 'Upper Hill': 325, 'South Oakland': 311, 'West Oakland': 274, 'Spring Garden': 200, 'Allegheny West': 115, 'St. Clair': 45, 'Stanton Heights': 199, 'Esplen': 186, 'Squirrel Hill North': 252, 'Mt. Oliver Neighborhood': 2, 'Summer Hill': 63, 'Arlington Heights': 130, 'Troy Hill': 379, 'Central Business District': 3570, 'Central North Side': 760, 'Mount Oliver': 111, 'Windgap': 103, 'Outside State': 57, 'Duquesne Heights': 177, 'New Homestead': 38, 'Ridgemont': 32, 'Swisshelm Park': 38, 'Hays': 98, 'Chartiers City': 38, 'Mt. Oliver Boro': 18}\n"
     ]
    }
   ],
   "source": [
    "arrestLocDict = {}\n",
    "arrestLocation = arrests[['INCIDENTNEIGHBORHOOD']]\n",
    "\n",
    "for each in arrestLocation['INCIDENTNEIGHBORHOOD']:\n",
    "    if each in arrestLocDict:\n",
    "        arrestLocDict[each] += 1\n",
    "    else:\n",
    "        arrestLocDict[each] = 1\n",
    "\n",
    "print(arrestLocDict)"
   ]
  },
  {
   "cell_type": "markdown",
   "metadata": {},
   "source": []
  }
 ],
 "metadata": {
  "kernelspec": {
   "display_name": "Python 3.10.8 64-bit (microsoft store)",
   "language": "python",
   "name": "python3"
  },
  "language_info": {
   "codemirror_mode": {
    "name": "ipython",
    "version": 3
   },
   "file_extension": ".py",
   "mimetype": "text/x-python",
   "name": "python",
   "nbconvert_exporter": "python",
   "pygments_lexer": "ipython3",
   "version": "3.10.8"
  },
  "orig_nbformat": 4,
  "vscode": {
   "interpreter": {
    "hash": "3dce63e6a54adc42dcca76dd982b98d69b1e9d0b7e1260bf71746be2447b2fe2"
   }
  }
 },
 "nbformat": 4,
 "nbformat_minor": 2
}
