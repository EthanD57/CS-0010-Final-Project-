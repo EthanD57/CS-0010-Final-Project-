{
 "cells": [
  {
   "cell_type": "markdown",
   "metadata": {},
   "source": [
    "<h1>Drug Overdoses</h1>"
   ]
  },
  {
   "cell_type": "code",
   "execution_count": 4,
   "metadata": {},
   "outputs": [
    {
     "data": {
      "text/html": [
       "<div>\n",
       "<style scoped>\n",
       "    .dataframe tbody tr th:only-of-type {\n",
       "        vertical-align: middle;\n",
       "    }\n",
       "\n",
       "    .dataframe tbody tr th {\n",
       "        vertical-align: top;\n",
       "    }\n",
       "\n",
       "    .dataframe thead th {\n",
       "        text-align: right;\n",
       "    }\n",
       "</style>\n",
       "<table border=\"1\" class=\"dataframe\">\n",
       "  <thead>\n",
       "    <tr style=\"text-align: right;\">\n",
       "      <th></th>\n",
       "      <th>description_short</th>\n",
       "      <th>city_name</th>\n",
       "    </tr>\n",
       "  </thead>\n",
       "  <tbody>\n",
       "    <tr>\n",
       "      <th>0</th>\n",
       "      <td>FALL</td>\n",
       "      <td>PENN HILLS</td>\n",
       "    </tr>\n",
       "    <tr>\n",
       "      <th>1</th>\n",
       "      <td>NON EMERGENCY TRANSPORT</td>\n",
       "      <td>INDIANA</td>\n",
       "    </tr>\n",
       "    <tr>\n",
       "      <th>2</th>\n",
       "      <td>FALL</td>\n",
       "      <td>INDIANA</td>\n",
       "    </tr>\n",
       "    <tr>\n",
       "      <th>3</th>\n",
       "      <td>SMOKE OUTSIDE - SEEN OR SMELLED</td>\n",
       "      <td>WHITE OAK</td>\n",
       "    </tr>\n",
       "    <tr>\n",
       "      <th>4</th>\n",
       "      <td>SICK</td>\n",
       "      <td>VERONA</td>\n",
       "    </tr>\n",
       "    <tr>\n",
       "      <th>5</th>\n",
       "      <td>SICK</td>\n",
       "      <td>MOUNT OLIVER</td>\n",
       "    </tr>\n",
       "    <tr>\n",
       "      <th>6</th>\n",
       "      <td>Removed</td>\n",
       "      <td>PITTSBURGH</td>\n",
       "    </tr>\n",
       "    <tr>\n",
       "      <th>7</th>\n",
       "      <td>Removed</td>\n",
       "      <td>PITTSBURGH</td>\n",
       "    </tr>\n",
       "    <tr>\n",
       "      <th>8</th>\n",
       "      <td>CHEST PAIN</td>\n",
       "      <td>SCOTT</td>\n",
       "    </tr>\n",
       "    <tr>\n",
       "      <th>9</th>\n",
       "      <td>NON EMERGENCY TRANSPORT</td>\n",
       "      <td>MOUNT LEBANON</td>\n",
       "    </tr>\n",
       "  </tbody>\n",
       "</table>\n",
       "</div>"
      ],
      "text/plain": [
       "                 description_short      city_name\n",
       "0                             FALL     PENN HILLS\n",
       "1          NON EMERGENCY TRANSPORT        INDIANA\n",
       "2                             FALL        INDIANA\n",
       "3  SMOKE OUTSIDE - SEEN OR SMELLED      WHITE OAK\n",
       "4                             SICK         VERONA\n",
       "5                             SICK   MOUNT OLIVER\n",
       "6                          Removed     PITTSBURGH\n",
       "7                          Removed     PITTSBURGH\n",
       "8                       CHEST PAIN          SCOTT\n",
       "9          NON EMERGENCY TRANSPORT  MOUNT LEBANON"
      ]
     },
     "execution_count": 4,
     "metadata": {},
     "output_type": "execute_result"
    }
   ],
   "source": [
    "import pandas as pd\n",
    "\n",
    "drugs = pd.read_csv(\"Drugs.csv\", sep=\",\")\n",
    "\n",
    "death = drugs[[\"description_short\", \"city_name\"]]\n",
    "\n",
    "totals = {}\n",
    "\n",
    "death.head(10)\n",
    "\n",
    "for each in death[\"city_name\"]:\n",
    "    if \n",
    "# print(totals)\n"
   ]
  },
  {
   "cell_type": "code",
   "execution_count": null,
   "metadata": {},
   "outputs": [],
   "source": []
  }
 ],
 "metadata": {
  "kernelspec": {
   "display_name": "Python 3.10.8 64-bit (microsoft store)",
   "language": "python",
   "name": "python3"
  },
  "language_info": {
   "codemirror_mode": {
    "name": "ipython",
    "version": 3
   },
   "file_extension": ".py",
   "mimetype": "text/x-python",
   "name": "python",
   "nbconvert_exporter": "python",
   "pygments_lexer": "ipython3",
   "version": "3.10.8"
  },
  "orig_nbformat": 4,
  "vscode": {
   "interpreter": {
    "hash": "3dce63e6a54adc42dcca76dd982b98d69b1e9d0b7e1260bf71746be2447b2fe2"
   }
  }
 },
 "nbformat": 4,
 "nbformat_minor": 2
}
