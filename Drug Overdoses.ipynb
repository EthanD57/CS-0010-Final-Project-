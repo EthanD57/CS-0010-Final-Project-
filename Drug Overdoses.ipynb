{
 "cells": [
  {
   "cell_type": "markdown",
   "metadata": {},
   "source": [
    "<h1>Drug Overdoses</h1>"
   ]
  },
  {
   "cell_type": "code",
   "execution_count": 3,
   "metadata": {},
   "outputs": [],
   "source": [
    "import pandas as pd\n",
    "\n",
    "drugs = pd.read_csv(\"Drugs.csv\", sep=\",\")\n",
    "\n",
    "drugs.head()\n",
    "\n",
    "death = drugs[[\"OFFENSES\", \"INCIDENTNEIGHBORHOOD\"]]\n",
    "\n",
    "totals = {}\n",
    "\n",
    "for x in range(len(death)):\n",
    "    if death.iloc[x,0].__contains__(\"Controlled\"):\n",
    "        if death.iloc[x,1] in totals:\n",
    "                totals[death.iloc[x,1]] += 1\n",
    "        else:\n",
    "                totals[death.iloc[x,1]] = 1\n"
   ]
  },
  {
   "cell_type": "code",
   "execution_count": 4,
   "metadata": {},
   "outputs": [],
   "source": [
    "deaths = list(totals.values())\n",
    "locations = list(totals.keys())\n",
    "\n",
    "dframe = pd.DataFrame(list(zip(locations, deaths)), columns=[\"Location\",\"Drug Possesions\"])\n",
    "sortedDF = dframe.sort_values(by=['Drug Possesions'],ascending=False)\n",
    "\n",
    "sortedDF.tail()\n",
    "sortedDF = sortedDF.dropna()\n"
   ]
  },
  {
   "cell_type": "code",
   "execution_count": 6,
   "metadata": {},
   "outputs": [],
   "source": [
    "sortedDF.to_csv(\"Possesions.csv\", index=False)"
   ]
  },
  {
   "cell_type": "code",
   "execution_count": null,
   "metadata": {},
   "outputs": [],
   "source": []
  }
 ],
 "metadata": {
  "kernelspec": {
   "display_name": "Python 3.10.8 64-bit (microsoft store)",
   "language": "python",
   "name": "python3"
  },
  "language_info": {
   "codemirror_mode": {
    "name": "ipython",
    "version": 3
   },
   "file_extension": ".py",
   "mimetype": "text/x-python",
   "name": "python",
   "nbconvert_exporter": "python",
   "pygments_lexer": "ipython3",
   "version": "3.10.8"
  },
  "orig_nbformat": 4,
  "vscode": {
   "interpreter": {
    "hash": "3dce63e6a54adc42dcca76dd982b98d69b1e9d0b7e1260bf71746be2447b2fe2"
   }
  }
 },
 "nbformat": 4,
 "nbformat_minor": 2
}
